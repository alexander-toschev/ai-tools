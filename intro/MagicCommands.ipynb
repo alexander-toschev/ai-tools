{
 "cells": [
  {
   "cell_type": "code",
   "execution_count": 1,
   "id": "9e99b133-f38b-48d7-a25d-98369f7e3f1e",
   "metadata": {},
   "outputs": [],
   "source": [
    "# Cell 1: Import libraries and use %pdoc\n",
    "import numpy as np\n",
    "import pandas as pd"
   ]
  },
  {
   "cell_type": "code",
   "execution_count": 2,
   "id": "89ead9b9-9868-4f72-b4cb-06f72ded6503",
   "metadata": {},
   "outputs": [
    {
     "data": {
      "text/plain": [
       "\u001b[0;31mClass docstring:\u001b[0m\n",
       "    array(object, dtype=None, *, copy=True, order='K', subok=False, ndmin=0,\n",
       "          like=None)\n",
       "    \n",
       "    Create an array.\n",
       "    \n",
       "    Parameters\n",
       "    ----------\n",
       "    object : array_like\n",
       "        An array, any object exposing the array interface, an object whose\n",
       "        __array__ method returns an array, or any (nested) sequence.\n",
       "        If object is a scalar, a 0-dimensional array containing object is\n",
       "        returned.\n",
       "    dtype : data-type, optional\n",
       "        The desired data-type for the array.  If not given, then the type will\n",
       "        be determined as the minimum type required to hold the objects in the\n",
       "        sequence.\n",
       "    copy : bool, optional\n",
       "        If true (default), then the object is copied.  Otherwise, a copy will\n",
       "        only be made if __array__ returns a copy, if obj is a nested sequence,\n",
       "        or if a copy is needed to satisfy any of the other requirements\n",
       "        (`dtype`, `order`, etc.).\n",
       "    order : {'K', 'A', 'C', 'F'}, optional\n",
       "        Specify the memory layout of the array. If object is not an array, the\n",
       "        newly created array will be in C order (row major) unless 'F' is\n",
       "        specified, in which case it will be in Fortran order (column major).\n",
       "        If object is an array the following holds.\n",
       "    \n",
       "        ===== ========= ===================================================\n",
       "        order  no copy                     copy=True\n",
       "        ===== ========= ===================================================\n",
       "        'K'   unchanged F & C order preserved, otherwise most similar order\n",
       "        'A'   unchanged F order if input is F and not C, otherwise C order\n",
       "        'C'   C order   C order\n",
       "        'F'   F order   F order\n",
       "        ===== ========= ===================================================\n",
       "    \n",
       "        When ``copy=False`` and a copy is made for other reasons, the result is\n",
       "        the same as if ``copy=True``, with some exceptions for 'A', see the\n",
       "        Notes section. The default order is 'K'.\n",
       "    subok : bool, optional\n",
       "        If True, then sub-classes will be passed-through, otherwise\n",
       "        the returned array will be forced to be a base-class array (default).\n",
       "    ndmin : int, optional\n",
       "        Specifies the minimum number of dimensions that the resulting\n",
       "        array should have.  Ones will be prepended to the shape as\n",
       "        needed to meet this requirement.\n",
       "    like : array_like, optional\n",
       "        Reference object to allow the creation of arrays which are not\n",
       "        NumPy arrays. If an array-like passed in as ``like`` supports\n",
       "        the ``__array_function__`` protocol, the result will be defined\n",
       "        by it. In this case, it ensures the creation of an array object\n",
       "        compatible with that passed in via this argument.\n",
       "    \n",
       "        .. versionadded:: 1.20.0\n",
       "    \n",
       "    Returns\n",
       "    -------\n",
       "    out : ndarray\n",
       "        An array object satisfying the specified requirements.\n",
       "    \n",
       "    See Also\n",
       "    --------\n",
       "    empty_like : Return an empty array with shape and type of input.\n",
       "    ones_like : Return an array of ones with shape and type of input.\n",
       "    zeros_like : Return an array of zeros with shape and type of input.\n",
       "    full_like : Return a new array with shape of input filled with value.\n",
       "    empty : Return a new uninitialized array.\n",
       "    ones : Return a new array setting values to one.\n",
       "    zeros : Return a new array setting values to zero.\n",
       "    full : Return a new array of given shape filled with value.\n",
       "    \n",
       "    \n",
       "    Notes\n",
       "    -----\n",
       "    When order is 'A' and `object` is an array in neither 'C' nor 'F' order,\n",
       "    and a copy is forced by a change in dtype, then the order of the result is\n",
       "    not necessarily 'C' as expected. This is likely a bug.\n",
       "    \n",
       "    Examples\n",
       "    --------\n",
       "    >>> np.array([1, 2, 3])\n",
       "    array([1, 2, 3])\n",
       "    \n",
       "    Upcasting:\n",
       "    \n",
       "    >>> np.array([1, 2, 3.0])\n",
       "    array([ 1.,  2.,  3.])\n",
       "    \n",
       "    More than one dimension:\n",
       "    \n",
       "    >>> np.array([[1, 2], [3, 4]])\n",
       "    array([[1, 2],\n",
       "           [3, 4]])\n",
       "    \n",
       "    Minimum dimensions 2:\n",
       "    \n",
       "    >>> np.array([1, 2, 3], ndmin=2)\n",
       "    array([[1, 2, 3]])\n",
       "    \n",
       "    Type provided:\n",
       "    \n",
       "    >>> np.array([1, 2, 3], dtype=complex)\n",
       "    array([ 1.+0.j,  2.+0.j,  3.+0.j])\n",
       "    \n",
       "    Data-type consisting of more than one element:\n",
       "    \n",
       "    >>> x = np.array([(1,2),(3,4)],dtype=[('a','<i4'),('b','<i4')])\n",
       "    >>> x['a']\n",
       "    array([1, 3])\n",
       "    \n",
       "    Creating an array from sub-classes:\n",
       "    \n",
       "    >>> np.array(np.mat('1 2; 3 4'))\n",
       "    array([[1, 2],\n",
       "           [3, 4]])\n",
       "    \n",
       "    >>> np.array(np.mat('1 2; 3 4'), subok=True)\n",
       "    matrix([[1, 2],\n",
       "            [3, 4]])\n",
       "\u001b[0;31mCall docstring:\u001b[0m\n",
       "    Call self as a function."
      ]
     },
     "metadata": {},
     "output_type": "display_data"
    }
   ],
   "source": [
    "# Use %pdoc to display documentation for numpy.array\n",
    "%pdoc np.array"
   ]
  },
  {
   "cell_type": "code",
   "execution_count": 3,
   "id": "10019a7f-6034-4e46-b617-c76a71241d3a",
   "metadata": {},
   "outputs": [
    {
     "name": "stdout",
     "output_type": "stream",
     "text": [
      "511 ns ± 4.79 ns per loop (mean ± std. dev. of 7 runs, 1,000,000 loops each)\n"
     ]
    }
   ],
   "source": [
    "# Cell 2: Demonstrate usage of %timeit - Line Magic for timing a single line of Python code\n",
    "import numpy as np\n",
    "\n",
    "# Time the execution of a numpy array creation\n",
    "%timeit np.arange(1000)"
   ]
  },
  {
   "cell_type": "code",
   "execution_count": 7,
   "id": "08fd8e56-2e65-4f2c-b6e7-229e76a0a725",
   "metadata": {},
   "outputs": [
    {
     "data": {
      "text/plain": [
       "array([0.        , 0.84147098, 0.90929743, ..., 0.43692413, 0.99297289,\n",
       "       0.63608696])"
      ]
     },
     "execution_count": 7,
     "metadata": {},
     "output_type": "execute_result"
    }
   ],
   "source": [
    "# Cell 3: Use %%timeit - Cell Magic to time multiple lines of code\n",
    "%timeit\n",
    "\n",
    "array = np.arange(10000)\n",
    "np.sin(array)"
   ]
  },
  {
   "cell_type": "code",
   "execution_count": 8,
   "id": "7ced0dd0-7c57-4688-8c41-80172b140beb",
   "metadata": {},
   "outputs": [
    {
     "data": {
      "image/png": "[encoded data removed]",
      "text/plain": [
       "<Figure size 640x480 with 1 Axes>"
      ]
     },
     "metadata": {},
     "output_type": "display_data"
    }
   ],
   "source": [
    "# Cell 4: Plotting in JupyterLab with matplotlib\n",
    "%matplotlib inline\n",
    "import matplotlib.pyplot as plt\n",
    "\n",
    "# Generate some data\n",
    "x = np.linspace(0, 10, 100)\n",
    "y = np.sin(x)\n",
    "\n",
    "# Plot the data\n",
    "plt.plot(x, y)\n",
    "plt.title('Sine Wave')\n",
    "plt.xlabel('X Axis')\n",
    "plt.ylabel('Y Axis')\n",
    "plt.show()"
   ]
  },
  {
   "cell_type": "code",
   "execution_count": 9,
   "id": "778ee8d1-9c22-4379-9099-be712e9d6b74",
   "metadata": {},
   "outputs": [
    {
     "data": {
      "application/vnd.jupyter.widget-view+json": {
       "model_id": "98f5e9d790574b44b4617a965b0675ad",
       "version_major": 2,
       "version_minor": 0
      },
      "text/plain": [
       "interactive(children=(FloatSlider(value=1.0, description='frequency', max=5.0, min=0.1), Output()), _dom_class…"
      ]
     },
     "metadata": {},
     "output_type": "display_data"
    },
    {
     "data": {
      "text/plain": [
       "<function __main__.plot_sine_wave(frequency=1.0)>"
      ]
     },
     "execution_count": 9,
     "metadata": {},
     "output_type": "execute_result"
    }
   ],
   "source": [
    "# Cell 5: Interactive widgets with IPython.display and ipywidgets\n",
    "from ipywidgets import interact\n",
    "import ipywidgets as widgets\n",
    "\n",
    "# Define a function to plot with variable frequency\n",
    "def plot_sine_wave(frequency=1.0):\n",
    "    x = np.linspace(0, 10, 100)\n",
    "    y = np.sin(x * frequency)\n",
    "    plt.plot(x, y)\n",
    "    plt.title('Sine Wave')\n",
    "    plt.xlabel('X Axis')\n",
    "    plt.ylabel('Y Axis')\n",
    "    plt.show()\n",
    "\n",
    "# Create an interactive widget to change the frequency of the sine wave\n",
    "interact(plot_sine_wave, frequency=widgets.FloatSlider(value=1.0, min=0.1, max=5.0, step=0.1))"
   ]
  },
  {
   "cell_type": "code",
   "execution_count": null,
   "id": "825cdddf-1654-4f7c-bcdd-bf08001be18f",
   "metadata": {},
   "outputs": [],
   "source": []
  }
 ],
 "metadata": {
  "kernelspec": {
   "display_name": "Python 3 (ipykernel)",
   "language": "python",
   "name": "python3"
  },
  "language_info": {
   "codemirror_mode": {
    "name": "ipython",
    "version": 3
   },
   "file_extension": ".py",
   "mimetype": "text/x-python",
   "name": "python",
   "nbconvert_exporter": "python",
   "pygments_lexer": "ipython3",
   "version": "3.8.13"
  }
 },
 "nbformat": 4,
 "nbformat_minor": 5
}
