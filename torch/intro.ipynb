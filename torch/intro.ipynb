{
 "cells": [
  {
   "cell_type": "code",
   "execution_count": 1,
   "metadata": {
    "collapsed": false,
    "jupyter": {
     "outputs_hidden": false
    }
   },
   "outputs": [],
   "source": [
    "# For tips on running notebooks in Google Colab, see\n",
    "# https://pytorch.org/tutorials/beginner/colab\n",
    "%matplotlib inline"
   ]
  },
  {
   "cell_type": "markdown",
   "metadata": {},
   "source": [
    "MAC M1, torch turorial. Originated from https://pytorch.org/tutorials/beginner/basics/quickstart_tutorial.html"
   ]
  },
  {
   "cell_type": "code",
   "execution_count": 2,
   "metadata": {
    "tags": []
   },
   "outputs": [
    {
     "name": "stderr",
     "output_type": "stream",
     "text": [
      "/Users/alex/miniforge3/envs/pytorch_m1/lib/python3.8/site-packages/torchvision/io/image.py:13: UserWarning: Failed to load image Python extension: dlopen(/Users/alex/miniforge3/envs/pytorch_m1/lib/python3.8/site-packages/torchvision/image.so, 0x0006): Library not loaded: @rpath/libjpeg.8.dylib\n",
      "  Referenced from: <A67B04BC-AB67-333C-B5C9-B63B1EB8B36D> /Users/alex/miniforge3/envs/pytorch_m1/lib/python3.8/site-packages/torchvision/image.so\n",
      "  Reason: tried: '/Users/alex/miniforge3/envs/pytorch_m1/lib/python3.8/site-packages/torchvision/../../../libjpeg.8.dylib' (no such file), '/Users/alex/miniforge3/envs/pytorch_m1/lib/python3.8/site-packages/torchvision/../../../libjpeg.8.dylib' (no such file), '/Users/alex/miniforge3/envs/pytorch_m1/lib/python3.8/lib-dynload/../../libjpeg.8.dylib' (no such file), '/Users/alex/miniforge3/envs/pytorch_m1/bin/../lib/libjpeg.8.dylib' (no such file), '/usr/local/lib/libjpeg.8.dylib' (no such file), '/usr/lib/libjpeg.8.dylib' (no such file, not in dyld cache)\n",
      "  warn(f\"Failed to load image Python extension: {e}\")\n"
     ]
    }
   ],
   "source": [
    "import torch\n",
    "from torch import nn\n",
    "from torch.utils.data import DataLoader\n",
    "from torchvision import datasets\n",
    "from torchvision.transforms import ToTensor"
   ]
  },
  {
   "cell_type": "code",
   "execution_count": 3,
   "metadata": {
    "tags": []
   },
   "outputs": [],
   "source": [
    "# Download training data from open datasets.\n",
    "training_data = datasets.FashionMNIST(\n",
    "    root=\"data\",\n",
    "    train=True,\n",
    "    download=True,\n",
    "    transform=ToTensor(),\n",
    ")\n",
    "\n",
    "# Download test data from open datasets.\n",
    "test_data = datasets.FashionMNIST(\n",
    "    root=\"data\",\n",
    "    train=False,\n",
    "    download=True,\n",
    "    transform=ToTensor(),\n",
    ")\n"
   ]
  },
  {
   "cell_type": "code",
   "execution_count": 5,
   "metadata": {
    "tags": []
   },
   "outputs": [
    {
     "name": "stdout",
     "output_type": "stream",
     "text": [
      "Shape of X [N, C, H, W]: torch.Size([64, 1, 28, 28])\n",
      "Shape of y: torch.Size([64]) torch.int64\n"
     ]
    }
   ],
   "source": [
    "batch_size = 64\n",
    "\n",
    "# Create data loaders.\n",
    "train_dataloader = DataLoader(training_data, batch_size=batch_size)\n",
    "test_dataloader = DataLoader(test_data, batch_size=batch_size)\n",
    "\n",
    "for X, y in test_dataloader:\n",
    "    print(f\"Shape of X [N, C, H, W]: {X.shape}\")\n",
    "    print(f\"Shape of y: {y.shape} {y.dtype}\")\n",
    "    break"
   ]
  },
  {
   "cell_type": "markdown",
   "metadata": {},
   "source": [
    "# Modelling"
   ]
  },
  {
   "cell_type": "code",
   "execution_count": 6,
   "metadata": {
    "tags": []
   },
   "outputs": [
    {
     "name": "stdout",
     "output_type": "stream",
     "text": [
      "Using mps device\n",
      "NeuralNetwork(\n",
      "  (flatten): Flatten(start_dim=1, end_dim=-1)\n",
      "  (linear_relu_stack): Sequential(\n",
      "    (0): Linear(in_features=784, out_features=512, bias=True)\n",
      "    (1): ReLU()\n",
      "    (2): Linear(in_features=512, out_features=512, bias=True)\n",
      "    (3): ReLU()\n",
      "    (4): Linear(in_features=512, out_features=10, bias=True)\n",
      "  )\n",
      ")\n"
     ]
    }
   ],
   "source": [
    "# mps for Mac \n",
    "device = \"cuda\" if torch.cuda.is_available() else \"mps\" if torch.backends.mps.is_available() else \"cpu\"\n",
    "print(f\"Using {device} device\")\n",
    "\n",
    "# Define model\n",
    "class NeuralNetwork(nn.Module):\n",
    "    def __init__(self):\n",
    "        super().__init__()\n",
    "        self.flatten = nn.Flatten()\n",
    "        self.linear_relu_stack = nn.Sequential(\n",
    "            nn.Linear(28*28, 512),\n",
    "            nn.ReLU(),\n",
    "            nn.Linear(512, 512),\n",
    "            nn.ReLU(),\n",
    "            nn.Linear(512, 10)\n",
    "        )\n",
    "\n",
    "    def forward(self, x):\n",
    "        x = self.flatten(x)\n",
    "        logits = self.linear_relu_stack(x)\n",
    "        return logits\n",
    "\n",
    "model = NeuralNetwork().to(device)\n",
    "print(model)"
   ]
  },
  {
   "cell_type": "markdown",
   "metadata": {},
   "source": [
    "To train a model, we need a loss function and an optimizer."
   ]
  },
  {
   "cell_type": "code",
   "execution_count": 7,
   "metadata": {
    "tags": []
   },
   "outputs": [],
   "source": [
    "loss_fn = nn.CrossEntropyLoss()\n",
    "optimizer = torch.optim.SGD(model.parameters(), lr=1e-3)"
   ]
  },
  {
   "cell_type": "markdown",
   "metadata": {},
   "source": [
    "In a single training loop, the model makes predictions on the training dataset (fed to it in batches), and backpropagates the prediction error to adjust the model’s parameters.\n",
    "\n"
   ]
  },
  {
   "cell_type": "code",
   "execution_count": 8,
   "metadata": {
    "tags": []
   },
   "outputs": [],
   "source": [
    "def train(dataloader, model, loss_fn, optimizer):\n",
    "    size = len(dataloader.dataset)\n",
    "    model.train()\n",
    "    for batch, (X, y) in enumerate(dataloader):\n",
    "        X, y = X.to(device), y.to(device)\n",
    "\n",
    "        # Compute prediction error\n",
    "        pred = model(X)\n",
    "        loss = loss_fn(pred, y)\n",
    "\n",
    "        # Backpropagation\n",
    "        optimizer.zero_grad()\n",
    "        loss.backward()\n",
    "        optimizer.step()\n",
    "\n",
    "        if batch % 100 == 0:\n",
    "            loss, current = loss.item(), (batch + 1) * len(X)\n",
    "            print(f\"loss: {loss:>7f}  [{current:>5d}/{size:>5d}]\")"
   ]
  },
  {
   "cell_type": "code",
   "execution_count": 9,
   "metadata": {
    "tags": []
   },
   "outputs": [],
   "source": [
    "def test(dataloader, model, loss_fn):\n",
    "    size = len(dataloader.dataset)\n",
    "    num_batches = len(dataloader)\n",
    "    model.eval()\n",
    "    test_loss, correct = 0, 0\n",
    "    with torch.no_grad():\n",
    "        for X, y in dataloader:\n",
    "            X, y = X.to(device), y.to(device)\n",
    "            pred = model(X)\n",
    "            test_loss += loss_fn(pred, y).item()\n",
    "            correct += (pred.argmax(1) == y).type(torch.float).sum().item()\n",
    "    test_loss /= num_batches\n",
    "    correct /= size\n",
    "    print(f\"Test Error: \\n Accuracy: {(100*correct):>0.1f}%, Avg loss: {test_loss:>8f} \\n\")"
   ]
  },
  {
   "cell_type": "code",
   "execution_count": 10,
   "metadata": {
    "tags": []
   },
   "outputs": [
    {
     "name": "stdout",
     "output_type": "stream",
     "text": [
      "Epoch 1\n",
      "-------------------------------\n",
      "loss: 2.308217  [   64/60000]\n",
      "loss: 2.290139  [ 6464/60000]\n",
      "loss: 2.276787  [12864/60000]\n",
      "loss: 2.266814  [19264/60000]\n",
      "loss: 2.250489  [25664/60000]\n",
      "loss: 2.227117  [32064/60000]\n",
      "loss: 2.228038  [38464/60000]\n",
      "loss: 2.201912  [44864/60000]\n",
      "loss: 2.207343  [51264/60000]\n",
      "loss: 2.174462  [57664/60000]\n",
      "Test Error: \n",
      " Accuracy: 51.2%, Avg loss: 2.165831 \n",
      "\n",
      "Epoch 2\n",
      "-------------------------------\n",
      "loss: 2.175882  [   64/60000]\n",
      "loss: 2.161796  [ 6464/60000]\n",
      "loss: 2.112796  [12864/60000]\n",
      "loss: 2.129132  [19264/60000]\n",
      "loss: 2.087258  [25664/60000]\n",
      "loss: 2.023326  [32064/60000]\n",
      "loss: 2.057154  [38464/60000]\n",
      "loss: 1.981662  [44864/60000]\n",
      "loss: 1.988654  [51264/60000]\n",
      "loss: 1.931417  [57664/60000]\n",
      "Test Error: \n",
      " Accuracy: 57.6%, Avg loss: 1.919548 \n",
      "\n",
      "Epoch 3\n",
      "-------------------------------\n",
      "loss: 1.938552  [   64/60000]\n",
      "loss: 1.913886  [ 6464/60000]\n",
      "loss: 1.805294  [12864/60000]\n",
      "loss: 1.852741  [19264/60000]\n",
      "loss: 1.750781  [25664/60000]\n",
      "loss: 1.680241  [32064/60000]\n",
      "loss: 1.718956  [38464/60000]\n",
      "loss: 1.607967  [44864/60000]\n",
      "loss: 1.630125  [51264/60000]\n",
      "loss: 1.537187  [57664/60000]\n",
      "Test Error: \n",
      " Accuracy: 62.3%, Avg loss: 1.544699 \n",
      "\n",
      "Epoch 4\n",
      "-------------------------------\n",
      "loss: 1.594259  [   64/60000]\n",
      "loss: 1.561914  [ 6464/60000]\n",
      "loss: 1.415178  [12864/60000]\n",
      "loss: 1.494216  [19264/60000]\n",
      "loss: 1.378123  [25664/60000]\n",
      "loss: 1.354500  [32064/60000]\n",
      "loss: 1.381994  [38464/60000]\n",
      "loss: 1.293817  [44864/60000]\n",
      "loss: 1.327269  [51264/60000]\n",
      "loss: 1.232981  [57664/60000]\n",
      "Test Error: \n",
      " Accuracy: 64.2%, Avg loss: 1.256643 \n",
      "\n",
      "Epoch 5\n",
      "-------------------------------\n",
      "loss: 1.322228  [   64/60000]\n",
      "loss: 1.305287  [ 6464/60000]\n",
      "loss: 1.143369  [12864/60000]\n",
      "loss: 1.251075  [19264/60000]\n",
      "loss: 1.136682  [25664/60000]\n",
      "loss: 1.149085  [32064/60000]\n",
      "loss: 1.176674  [38464/60000]\n",
      "loss: 1.104349  [44864/60000]\n",
      "loss: 1.139312  [51264/60000]\n",
      "loss: 1.061914  [57664/60000]\n",
      "Test Error: \n",
      " Accuracy: 65.1%, Avg loss: 1.082259 \n",
      "\n",
      "Epoch 6\n",
      "-------------------------------\n",
      "loss: 1.142986  [   64/60000]\n",
      "loss: 1.147197  [ 6464/60000]\n",
      "loss: 0.969387  [12864/60000]\n",
      "loss: 1.102223  [19264/60000]\n",
      "loss: 0.992599  [25664/60000]\n",
      "loss: 1.014646  [32064/60000]\n",
      "loss: 1.052311  [38464/60000]\n",
      "loss: 0.987382  [44864/60000]\n",
      "loss: 1.021272  [51264/60000]\n",
      "loss: 0.958501  [57664/60000]\n",
      "Test Error: \n",
      " Accuracy: 66.2%, Avg loss: 0.972932 \n",
      "\n",
      "Epoch 7\n",
      "-------------------------------\n",
      "loss: 1.021248  [   64/60000]\n",
      "loss: 1.047083  [ 6464/60000]\n",
      "loss: 0.853610  [12864/60000]\n",
      "loss: 1.006133  [19264/60000]\n",
      "loss: 0.904164  [25664/60000]\n",
      "loss: 0.921980  [32064/60000]\n",
      "loss: 0.971683  [38464/60000]\n",
      "loss: 0.913243  [44864/60000]\n",
      "loss: 0.942282  [51264/60000]\n",
      "loss: 0.890598  [57664/60000]\n",
      "Test Error: \n",
      " Accuracy: 67.4%, Avg loss: 0.900090 \n",
      "\n",
      "Epoch 8\n",
      "-------------------------------\n",
      "loss: 0.933387  [   64/60000]\n",
      "loss: 0.979147  [ 6464/60000]\n",
      "loss: 0.772027  [12864/60000]\n",
      "loss: 0.940500  [19264/60000]\n",
      "loss: 0.845360  [25664/60000]\n",
      "loss: 0.855245  [32064/60000]\n",
      "loss: 0.914907  [38464/60000]\n",
      "loss: 0.864655  [44864/60000]\n",
      "loss: 0.886631  [51264/60000]\n",
      "loss: 0.842345  [57664/60000]\n",
      "Test Error: \n",
      " Accuracy: 68.8%, Avg loss: 0.848446 \n",
      "\n",
      "Epoch 9\n",
      "-------------------------------\n",
      "loss: 0.866599  [   64/60000]\n",
      "loss: 0.929129  [ 6464/60000]\n",
      "loss: 0.711857  [12864/60000]\n",
      "loss: 0.893101  [19264/60000]\n",
      "loss: 0.803257  [25664/60000]\n",
      "loss: 0.805638  [32064/60000]\n",
      "loss: 0.871849  [38464/60000]\n",
      "loss: 0.831109  [44864/60000]\n",
      "loss: 0.845511  [51264/60000]\n",
      "loss: 0.805752  [57664/60000]\n",
      "Test Error: \n",
      " Accuracy: 70.2%, Avg loss: 0.809658 \n",
      "\n",
      "Epoch 10\n",
      "-------------------------------\n",
      "loss: 0.813695  [   64/60000]\n",
      "loss: 0.889582  [ 6464/60000]\n",
      "loss: 0.665228  [12864/60000]\n",
      "loss: 0.857144  [19264/60000]\n",
      "loss: 0.770972  [25664/60000]\n",
      "loss: 0.767737  [32064/60000]\n",
      "loss: 0.836950  [38464/60000]\n",
      "loss: 0.806314  [44864/60000]\n",
      "loss: 0.813638  [51264/60000]\n",
      "loss: 0.776539  [57664/60000]\n",
      "Test Error: \n",
      " Accuracy: 71.4%, Avg loss: 0.778925 \n",
      "\n",
      "Done!\n"
     ]
    }
   ],
   "source": [
    "epochs = 10\n",
    "for t in range(epochs):\n",
    "    print(f\"Epoch {t+1}\\n-------------------------------\")\n",
    "    train(train_dataloader, model, loss_fn, optimizer)\n",
    "    test(test_dataloader, model, loss_fn)\n",
    "print(\"Done!\")"
   ]
  },
  {
   "cell_type": "markdown",
   "metadata": {},
   "source": [
    "# Task 1\n",
    "Build graphic for the learning process. "
   ]
  },
  {
   "cell_type": "markdown",
   "metadata": {},
   "source": [
    "# Load/Save models"
   ]
  },
  {
   "cell_type": "code",
   "execution_count": 11,
   "metadata": {
    "tags": []
   },
   "outputs": [
    {
     "name": "stdout",
     "output_type": "stream",
     "text": [
      "Saved PyTorch Model State to model.pth\n"
     ]
    },
    {
     "data": {
      "text/plain": [
       "<All keys matched successfully>"
      ]
     },
     "execution_count": 11,
     "metadata": {},
     "output_type": "execute_result"
    }
   ],
   "source": [
    "torch.save(model.state_dict(), \"model.pth\")\n",
    "print(\"Saved PyTorch Model State to model.pth\")\n",
    "\n",
    "model = NeuralNetwork()\n",
    "model.load_state_dict(torch.load(\"model.pth\"))"
   ]
  },
  {
   "cell_type": "code",
   "execution_count": 12,
   "metadata": {
    "tags": []
   },
   "outputs": [
    {
     "name": "stdout",
     "output_type": "stream",
     "text": [
      "Predicted: \"Ankle boot\", Actual: \"Ankle boot\"\n"
     ]
    }
   ],
   "source": [
    "classes = [\n",
    "    \"T-shirt/top\",\n",
    "    \"Trouser\",\n",
    "    \"Pullover\",\n",
    "    \"Dress\",\n",
    "    \"Coat\",\n",
    "    \"Sandal\",\n",
    "    \"Shirt\",\n",
    "    \"Sneaker\",\n",
    "    \"Bag\",\n",
    "    \"Ankle boot\",\n",
    "]\n",
    "\n",
    "model.eval()\n",
    "x, y = test_data[0][0], test_data[0][1]\n",
    "with torch.no_grad():\n",
    "    pred = model(x)\n",
    "    predicted, actual = classes[pred[0].argmax(0)], classes[y]\n",
    "    print(f'Predicted: \"{predicted}\", Actual: \"{actual}\"')"
   ]
  },
  {
   "cell_type": "code",
   "execution_count": null,
   "metadata": {},
   "outputs": [],
   "source": []
  }
 ],
 "metadata": {
  "kernelspec": {
   "display_name": "Python 3 (ipykernel)",
   "language": "python",
   "name": "python3"
  },
  "language_info": {
   "codemirror_mode": {
    "name": "ipython",
    "version": 3
   },
   "file_extension": ".py",
   "mimetype": "text/x-python",
   "name": "python",
   "nbconvert_exporter": "python",
   "pygments_lexer": "ipython3",
   "version": "3.8.16"
  }
 },
 "nbformat": 4,
 "nbformat_minor": 4
}
