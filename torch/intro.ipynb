{
 "cells": [
  {
   "cell_type": "code",
   "execution_count": null,
   "metadata": {
    "collapsed": false,
    "jupyter": {
     "outputs_hidden": false
    }
   },
   "outputs": [],
   "source": [
    "# For tips on running notebooks in Google Colab, see\n",
    "# https://pytorch.org/tutorials/beginner/colab\n",
    "%matplotlib inline"
   ]
  },
  {
   "cell_type": "markdown",
   "metadata": {},
   "source": [
    "MAC M1, torch turorial. Originated from https://pytorch.org/tutorials/beginner/basics/quickstart_tutorial.html"
   ]
  },
  {
   "cell_type": "code",
   "execution_count": 2,
   "metadata": {
    "tags": []
   },
   "outputs": [],
   "source": [
    "import torch\n",
    "from torch import nn\n",
    "from torch.utils.data import DataLoader\n",
    "from torchvision import datasets\n",
    "from torchvision.transforms import ToTensor"
   ]
  },
  {
   "cell_type": "code",
   "execution_count": 4,
   "metadata": {
    "tags": []
   },
   "outputs": [],
   "source": [
    "# Download training data from open datasets.\n",
    "training_data = datasets.FashionMNIST(\n",
    "    root=\"data\",\n",
    "    train=True,\n",
    "    download=True,\n",
    "    transform=ToTensor(),\n",
    ")\n",
    "\n",
    "# Download test data from open datasets.\n",
    "test_data = datasets.FashionMNIST(\n",
    "    root=\"data\",\n",
    "    train=False,\n",
    "    download=True,\n",
    "    transform=ToTensor(),\n",
    ")\n"
   ]
  },
  {
   "cell_type": "code",
   "execution_count": 5,
   "metadata": {
    "tags": []
   },
   "outputs": [
    {
     "name": "stdout",
     "output_type": "stream",
     "text": [
      "Shape of X [N, C, H, W]: torch.Size([64, 1, 28, 28])\n",
      "Shape of y: torch.Size([64]) torch.int64\n"
     ]
    }
   ],
   "source": [
    "batch_size = 64\n",
    "\n",
    "# Create data loaders.\n",
    "train_dataloader = DataLoader(training_data, batch_size=batch_size)\n",
    "test_dataloader = DataLoader(test_data, batch_size=batch_size)\n",
    "\n",
    "for X, y in test_dataloader:\n",
    "    print(f\"Shape of X [N, C, H, W]: {X.shape}\")\n",
    "    print(f\"Shape of y: {y.shape} {y.dtype}\")\n",
    "    break"
   ]
  },
  {
   "cell_type": "markdown",
   "metadata": {},
   "source": [
    "# Modelling"
   ]
  },
  {
   "cell_type": "code",
   "execution_count": 6,
   "metadata": {
    "tags": []
   },
   "outputs": [
    {
     "name": "stdout",
     "output_type": "stream",
     "text": [
      "Using mps device\n",
      "NeuralNetwork(\n",
      "  (flatten): Flatten(start_dim=1, end_dim=-1)\n",
      "  (linear_relu_stack): Sequential(\n",
      "    (0): Linear(in_features=784, out_features=512, bias=True)\n",
      "    (1): ReLU()\n",
      "    (2): Linear(in_features=512, out_features=512, bias=True)\n",
      "    (3): ReLU()\n",
      "    (4): Linear(in_features=512, out_features=10, bias=True)\n",
      "  )\n",
      ")\n"
     ]
    }
   ],
   "source": [
    "# mps for Mac \n",
    "device = \"cuda\" if torch.cuda.is_available() else \"mps\" if torch.backends.mps.is_available() else \"cpu\"\n",
    "print(f\"Using {device} device\")\n",
    "\n",
    "# Define model\n",
    "class NeuralNetwork(nn.Module):\n",
    "    def __init__(self):\n",
    "        super().__init__()\n",
    "        self.flatten = nn.Flatten()\n",
    "        self.linear_relu_stack = nn.Sequential(\n",
    "            nn.Linear(28*28, 512),\n",
    "            nn.ReLU(),\n",
    "            nn.Linear(512, 512),\n",
    "            nn.ReLU(),\n",
    "            nn.Linear(512, 10)\n",
    "        )\n",
    "\n",
    "    def forward(self, x):\n",
    "        x = self.flatten(x)\n",
    "        logits = self.linear_relu_stack(x)\n",
    "        return logits\n",
    "\n",
    "model = NeuralNetwork().to(device)\n",
    "print(model)"
   ]
  },
  {
   "cell_type": "markdown",
   "metadata": {},
   "source": [
    "To train a model, we need a loss function and an optimizer."
   ]
  },
  {
   "cell_type": "code",
   "execution_count": 7,
   "metadata": {
    "tags": []
   },
   "outputs": [],
   "source": [
    "loss_fn = nn.CrossEntropyLoss()\n",
    "optimizer = torch.optim.SGD(model.parameters(), lr=1e-3)"
   ]
  },
  {
   "cell_type": "markdown",
   "metadata": {},
   "source": [
    "In a single training loop, the model makes predictions on the training dataset (fed to it in batches), and backpropagates the prediction error to adjust the model’s parameters.\n",
    "\n"
   ]
  },
  {
   "cell_type": "code",
   "execution_count": 8,
   "metadata": {
    "tags": []
   },
   "outputs": [],
   "source": [
    "def train(dataloader, model, loss_fn, optimizer):\n",
    "    size = len(dataloader.dataset)\n",
    "    model.train()\n",
    "    for batch, (X, y) in enumerate(dataloader):\n",
    "        X, y = X.to(device), y.to(device)\n",
    "\n",
    "        # Compute prediction error\n",
    "        pred = model(X)\n",
    "        loss = loss_fn(pred, y)\n",
    "\n",
    "        # Backpropagation\n",
    "        optimizer.zero_grad()\n",
    "        loss.backward()\n",
    "        optimizer.step()\n",
    "\n",
    "        if batch % 100 == 0:\n",
    "            loss, current = loss.item(), (batch + 1) * len(X)\n",
    "            print(f\"loss: {loss:>7f}  [{current:>5d}/{size:>5d}]\")"
   ]
  },
  {
   "cell_type": "code",
   "execution_count": 9,
   "metadata": {
    "tags": []
   },
   "outputs": [],
   "source": [
    "def test(dataloader, model, loss_fn):\n",
    "    size = len(dataloader.dataset)\n",
    "    num_batches = len(dataloader)\n",
    "    model.eval()\n",
    "    test_loss, correct = 0, 0\n",
    "    with torch.no_grad():\n",
    "        for X, y in dataloader:\n",
    "            X, y = X.to(device), y.to(device)\n",
    "            pred = model(X)\n",
    "            test_loss += loss_fn(pred, y).item()\n",
    "            correct += (pred.argmax(1) == y).type(torch.float).sum().item()\n",
    "    test_loss /= num_batches\n",
    "    correct /= size\n",
    "    print(f\"Test Error: \\n Accuracy: {(100*correct):>0.1f}%, Avg loss: {test_loss:>8f} \\n\")"
   ]
  },
  {
   "cell_type": "code",
   "execution_count": 10,
   "metadata": {
    "tags": []
   },
   "outputs": [
    {
     "name": "stdout",
     "output_type": "stream",
     "text": [
      "Epoch 1\n",
      "-------------------------------\n",
      "loss: 2.308903  [   64/60000]\n",
      "loss: 2.292839  [ 6464/60000]\n",
      "loss: 2.279984  [12864/60000]\n",
      "loss: 2.277080  [19264/60000]\n",
      "loss: 2.245274  [25664/60000]\n",
      "loss: 2.226585  [32064/60000]\n",
      "loss: 2.230325  [38464/60000]\n",
      "loss: 2.199986  [44864/60000]\n",
      "loss: 2.199119  [51264/60000]\n",
      "loss: 2.164920  [57664/60000]\n",
      "Test Error: \n",
      " Accuracy: 40.9%, Avg loss: 2.159444 \n",
      "\n",
      "Epoch 2\n",
      "-------------------------------\n",
      "loss: 2.165663  [   64/60000]\n",
      "loss: 2.155644  [ 6464/60000]\n",
      "loss: 2.105136  [12864/60000]\n",
      "loss: 2.127068  [19264/60000]\n",
      "loss: 2.068260  [25664/60000]\n",
      "loss: 2.005317  [32064/60000]\n",
      "loss: 2.038351  [38464/60000]\n",
      "loss: 1.960354  [44864/60000]\n",
      "loss: 1.972116  [51264/60000]\n",
      "loss: 1.895982  [57664/60000]\n",
      "Test Error: \n",
      " Accuracy: 54.9%, Avg loss: 1.897735 \n",
      "\n",
      "Epoch 3\n",
      "-------------------------------\n",
      "loss: 1.923032  [   64/60000]\n",
      "loss: 1.895112  [ 6464/60000]\n",
      "loss: 1.786485  [12864/60000]\n",
      "loss: 1.831317  [19264/60000]\n",
      "loss: 1.720677  [25664/60000]\n",
      "loss: 1.660733  [32064/60000]\n",
      "loss: 1.688037  [38464/60000]\n",
      "loss: 1.590784  [44864/60000]\n",
      "loss: 1.621271  [51264/60000]\n",
      "loss: 1.507946  [57664/60000]\n",
      "Test Error: \n",
      " Accuracy: 62.4%, Avg loss: 1.531072 \n",
      "\n",
      "Epoch 4\n",
      "-------------------------------\n",
      "loss: 1.592470  [   64/60000]\n",
      "loss: 1.555448  [ 6464/60000]\n",
      "loss: 1.410980  [12864/60000]\n",
      "loss: 1.481100  [19264/60000]\n",
      "loss: 1.369034  [25664/60000]\n",
      "loss: 1.355513  [32064/60000]\n",
      "loss: 1.366807  [38464/60000]\n",
      "loss: 1.297297  [44864/60000]\n",
      "loss: 1.336447  [51264/60000]\n",
      "loss: 1.225611  [57664/60000]\n",
      "Test Error: \n",
      " Accuracy: 63.2%, Avg loss: 1.257619 \n",
      "\n",
      "Epoch 5\n",
      "-------------------------------\n",
      "loss: 1.333824  [   64/60000]\n",
      "loss: 1.310411  [ 6464/60000]\n",
      "loss: 1.150058  [12864/60000]\n",
      "loss: 1.252442  [19264/60000]\n",
      "loss: 1.133801  [25664/60000]\n",
      "loss: 1.153970  [32064/60000]\n",
      "loss: 1.168578  [38464/60000]\n",
      "loss: 1.114890  [44864/60000]\n",
      "loss: 1.156588  [51264/60000]\n",
      "loss: 1.062816  [57664/60000]\n",
      "Test Error: \n",
      " Accuracy: 64.3%, Avg loss: 1.089225 \n",
      "\n",
      "Epoch 6\n",
      "-------------------------------\n",
      "loss: 1.160262  [   64/60000]\n",
      "loss: 1.155781  [ 6464/60000]\n",
      "loss: 0.981442  [12864/60000]\n",
      "loss: 1.113067  [19264/60000]\n",
      "loss: 0.989303  [25664/60000]\n",
      "loss: 1.020732  [32064/60000]\n",
      "loss: 1.047637  [38464/60000]\n",
      "loss: 1.000737  [44864/60000]\n",
      "loss: 1.040507  [51264/60000]\n",
      "loss: 0.963050  [57664/60000]\n",
      "Test Error: \n",
      " Accuracy: 65.6%, Avg loss: 0.982302 \n",
      "\n",
      "Epoch 7\n",
      "-------------------------------\n",
      "loss: 1.040906  [   64/60000]\n",
      "loss: 1.056831  [ 6464/60000]\n",
      "loss: 0.868215  [12864/60000]\n",
      "loss: 1.021484  [19264/60000]\n",
      "loss: 0.899045  [25664/60000]\n",
      "loss: 0.928178  [32064/60000]\n",
      "loss: 0.968881  [38464/60000]\n",
      "loss: 0.926922  [44864/60000]\n",
      "loss: 0.959824  [51264/60000]\n",
      "loss: 0.897125  [57664/60000]\n",
      "Test Error: \n",
      " Accuracy: 67.2%, Avg loss: 0.909887 \n",
      "\n",
      "Epoch 8\n",
      "-------------------------------\n",
      "loss: 0.953809  [   64/60000]\n",
      "loss: 0.988369  [ 6464/60000]\n",
      "loss: 0.787643  [12864/60000]\n",
      "loss: 0.957086  [19264/60000]\n",
      "loss: 0.839374  [25664/60000]\n",
      "loss: 0.860425  [32064/60000]\n",
      "loss: 0.913418  [38464/60000]\n",
      "loss: 0.877427  [44864/60000]\n",
      "loss: 0.901323  [51264/60000]\n",
      "loss: 0.849933  [57664/60000]\n",
      "Test Error: \n",
      " Accuracy: 68.4%, Avg loss: 0.857723 \n",
      "\n",
      "Epoch 9\n",
      "-------------------------------\n",
      "loss: 0.887130  [   64/60000]\n",
      "loss: 0.937291  [ 6464/60000]\n",
      "loss: 0.727442  [12864/60000]\n",
      "loss: 0.909093  [19264/60000]\n",
      "loss: 0.797084  [25664/60000]\n",
      "loss: 0.809075  [32064/60000]\n",
      "loss: 0.871111  [38464/60000]\n",
      "loss: 0.842636  [44864/60000]\n",
      "loss: 0.857189  [51264/60000]\n",
      "loss: 0.813774  [57664/60000]\n",
      "Test Error: \n",
      " Accuracy: 69.8%, Avg loss: 0.817990 \n",
      "\n",
      "Epoch 10\n",
      "-------------------------------\n",
      "loss: 0.833628  [   64/60000]\n",
      "loss: 0.896609  [ 6464/60000]\n",
      "loss: 0.680191  [12864/60000]\n",
      "loss: 0.871746  [19264/60000]\n",
      "loss: 0.765118  [25664/60000]\n",
      "loss: 0.768978  [32064/60000]\n",
      "loss: 0.836982  [38464/60000]\n",
      "loss: 0.816787  [44864/60000]\n",
      "loss: 0.822553  [51264/60000]\n",
      "loss: 0.784516  [57664/60000]\n",
      "Test Error: \n",
      " Accuracy: 71.0%, Avg loss: 0.786324 \n",
      "\n",
      "Done!\n"
     ]
    }
   ],
   "source": [
    "epochs = 10\n",
    "for t in range(epochs):\n",
    "    print(f\"Epoch {t+1}\\n-------------------------------\")\n",
    "    train(train_dataloader, model, loss_fn, optimizer)\n",
    "    test(test_dataloader, model, loss_fn)\n",
    "print(\"Done!\")"
   ]
  },
  {
   "cell_type": "markdown",
   "metadata": {},
   "source": [
    "# Task 1\n",
    "Build graphic for the learning process. "
   ]
  },
  {
   "cell_type": "markdown",
   "metadata": {},
   "source": [
    "# Load/Save models"
   ]
  },
  {
   "cell_type": "code",
   "execution_count": 11,
   "metadata": {
    "tags": []
   },
   "outputs": [
    {
     "name": "stdout",
     "output_type": "stream",
     "text": [
      "Saved PyTorch Model State to model.pth\n"
     ]
    },
    {
     "data": {
      "text/plain": [
       "<All keys matched successfully>"
      ]
     },
     "execution_count": 11,
     "metadata": {},
     "output_type": "execute_result"
    }
   ],
   "source": [
    "torch.save(model.state_dict(), \"model.pth\")\n",
    "print(\"Saved PyTorch Model State to model.pth\")\n",
    "\n",
    "model = NeuralNetwork()\n",
    "model.load_state_dict(torch.load(\"model.pth\"))"
   ]
  },
  {
   "cell_type": "code",
   "execution_count": 12,
   "metadata": {
    "tags": []
   },
   "outputs": [
    {
     "name": "stdout",
     "output_type": "stream",
     "text": [
      "Predicted: \"Ankle boot\", Actual: \"Ankle boot\"\n"
     ]
    }
   ],
   "source": [
    "classes = [\n",
    "    \"T-shirt/top\",\n",
    "    \"Trouser\",\n",
    "    \"Pullover\",\n",
    "    \"Dress\",\n",
    "    \"Coat\",\n",
    "    \"Sandal\",\n",
    "    \"Shirt\",\n",
    "    \"Sneaker\",\n",
    "    \"Bag\",\n",
    "    \"Ankle boot\",\n",
    "]\n",
    "\n",
    "model.eval()\n",
    "x, y = test_data[0][0], test_data[0][1]\n",
    "with torch.no_grad():\n",
    "    pred = model(x)\n",
    "    predicted, actual = classes[pred[0].argmax(0)], classes[y]\n",
    "    print(f'Predicted: \"{predicted}\", Actual: \"{actual}\"')"
   ]
  },
  {
   "cell_type": "code",
   "execution_count": null,
   "metadata": {},
   "outputs": [],
   "source": []
  }
 ],
 "metadata": {
  "kernelspec": {
   "display_name": "Python 3 (ipykernel)",
   "language": "python",
   "name": "python3"
  },
  "language_info": {
   "codemirror_mode": {
    "name": "ipython",
    "version": 3
   },
   "file_extension": ".py",
   "mimetype": "text/x-python",
   "name": "python",
   "nbconvert_exporter": "python",
   "pygments_lexer": "ipython3",
   "version": "3.8.16"
  }
 },
 "nbformat": 4,
 "nbformat_minor": 4
}
