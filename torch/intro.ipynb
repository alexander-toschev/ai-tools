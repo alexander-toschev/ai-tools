{
 "cells": [
  {
   "cell_type": "code",
   "execution_count": 2,
   "metadata": {
    "collapsed": false,
    "jupyter": {
     "outputs_hidden": false
    }
   },
   "outputs": [],
   "source": [
    "# For tips on running notebooks in Google Colab, see\n",
    "# https://pytorch.org/tutorials/beginner/colab\n",
    "%matplotlib inline"
   ]
  },
  {
   "cell_type": "markdown",
   "metadata": {},
   "source": [
    "MAC M1, torch turorial. Originated from https://pytorch.org/tutorials/beginner/basics/quickstart_tutorial.html"
   ]
  },
  {
   "cell_type": "code",
   "execution_count": 4,
   "metadata": {
    "tags": []
   },
   "outputs": [],
   "source": [
    "import torch\n",
    "from torch import nn\n",
    "from torch.utils.data import DataLoader\n",
    "from torchvision import datasets\n",
    "from torchvision.transforms import ToTensor"
   ]
  },
  {
   "cell_type": "code",
   "execution_count": 5,
   "metadata": {
    "tags": []
   },
   "outputs": [],
   "source": [
    "# Download training data from open datasets.\n",
    "training_data = datasets.FashionMNIST(\n",
    "    root=\"data\",\n",
    "    train=True,\n",
    "    download=True,\n",
    "    transform=ToTensor(),\n",
    ")\n",
    "\n",
    "# Download test data from open datasets.\n",
    "test_data = datasets.FashionMNIST(\n",
    "    root=\"data\",\n",
    "    train=False,\n",
    "    download=True,\n",
    "    transform=ToTensor(),\n",
    ")\n"
   ]
  },
  {
   "cell_type": "code",
   "execution_count": 6,
   "metadata": {
    "tags": []
   },
   "outputs": [
    {
     "name": "stdout",
     "output_type": "stream",
     "text": [
      "Shape of X [N, C, H, W]: torch.Size([64, 1, 28, 28])\n",
      "Shape of y: torch.Size([64]) torch.int64\n"
     ]
    }
   ],
   "source": [
    "batch_size = 64\n",
    "\n",
    "# Create data loaders.\n",
    "train_dataloader = DataLoader(training_data, batch_size=batch_size)\n",
    "test_dataloader = DataLoader(test_data, batch_size=batch_size)\n",
    "\n",
    "for X, y in test_dataloader:\n",
    "    print(f\"Shape of X [N, C, H, W]: {X.shape}\")\n",
    "    print(f\"Shape of y: {y.shape} {y.dtype}\")\n",
    "    break"
   ]
  },
  {
   "cell_type": "markdown",
   "metadata": {},
   "source": [
    "# Modelling"
   ]
  },
  {
   "cell_type": "code",
   "execution_count": 7,
   "metadata": {
    "tags": []
   },
   "outputs": [
    {
     "name": "stdout",
     "output_type": "stream",
     "text": [
      "Using mps device\n",
      "NeuralNetwork(\n",
      "  (flatten): Flatten(start_dim=1, end_dim=-1)\n",
      "  (linear_relu_stack): Sequential(\n",
      "    (0): Linear(in_features=784, out_features=512, bias=True)\n",
      "    (1): ReLU()\n",
      "    (2): Linear(in_features=512, out_features=512, bias=True)\n",
      "    (3): ReLU()\n",
      "    (4): Linear(in_features=512, out_features=10, bias=True)\n",
      "  )\n",
      ")\n"
     ]
    }
   ],
   "source": [
    "# mps for Mac \n",
    "device = \"cuda\" if torch.cuda.is_available() else \"mps\" if torch.backends.mps.is_available() else \"cpu\"\n",
    "print(f\"Using {device} device\")\n",
    "\n",
    "# Define model\n",
    "class NeuralNetwork(nn.Module):\n",
    "    def __init__(self):\n",
    "        super().__init__()\n",
    "        self.flatten = nn.Flatten()\n",
    "        self.linear_relu_stack = nn.Sequential(\n",
    "            nn.Linear(28*28, 512),\n",
    "            nn.ReLU(),\n",
    "            nn.Linear(512, 512),\n",
    "            nn.ReLU(),\n",
    "            nn.Linear(512, 10)\n",
    "        )\n",
    "\n",
    "    def forward(self, x):\n",
    "        x = self.flatten(x)\n",
    "        logits = self.linear_relu_stack(x)\n",
    "        return logits\n",
    "\n",
    "model = NeuralNetwork().to(device)\n",
    "print(model)"
   ]
  },
  {
   "cell_type": "markdown",
   "metadata": {},
   "source": [
    "To train a model, we need a loss function and an optimizer."
   ]
  },
  {
   "cell_type": "code",
   "execution_count": 8,
   "metadata": {
    "tags": []
   },
   "outputs": [],
   "source": [
    "loss_fn = nn.CrossEntropyLoss()\n",
    "optimizer = torch.optim.SGD(model.parameters(), lr=1e-3)"
   ]
  },
  {
   "cell_type": "markdown",
   "metadata": {},
   "source": [
    "In a single training loop, the model makes predictions on the training dataset (fed to it in batches), and backpropagates the prediction error to adjust the model’s parameters.\n",
    "\n"
   ]
  },
  {
   "cell_type": "code",
   "execution_count": 9,
   "metadata": {
    "tags": []
   },
   "outputs": [],
   "source": [
    "def train(dataloader, model, loss_fn, optimizer):\n",
    "    size = len(dataloader.dataset)\n",
    "    model.train()\n",
    "    for batch, (X, y) in enumerate(dataloader):\n",
    "        X, y = X.to(device), y.to(device)\n",
    "\n",
    "        # Compute prediction error\n",
    "        pred = model(X)\n",
    "        loss = loss_fn(pred, y)\n",
    "\n",
    "        # Backpropagation\n",
    "        optimizer.zero_grad()\n",
    "        loss.backward()\n",
    "        optimizer.step()\n",
    "\n",
    "        if batch % 100 == 0:\n",
    "            loss, current = loss.item(), (batch + 1) * len(X)\n",
    "            print(f\"loss: {loss:>7f}  [{current:>5d}/{size:>5d}]\")"
   ]
  },
  {
   "cell_type": "code",
   "execution_count": 10,
   "metadata": {
    "tags": []
   },
   "outputs": [],
   "source": [
    "def test(dataloader, model, loss_fn):\n",
    "    size = len(dataloader.dataset)\n",
    "    num_batches = len(dataloader)\n",
    "    model.eval()\n",
    "    test_loss, correct = 0, 0\n",
    "    with torch.no_grad():\n",
    "        for X, y in dataloader:\n",
    "            X, y = X.to(device), y.to(device)\n",
    "            pred = model(X)\n",
    "            test_loss += loss_fn(pred, y).item()\n",
    "            correct += (pred.argmax(1) == y).type(torch.float).sum().item()\n",
    "    test_loss /= num_batches\n",
    "    correct /= size\n",
    "    print(f\"Test Error: \\n Accuracy: {(100*correct):>0.1f}%, Avg loss: {test_loss:>8f} \\n\")"
   ]
  },
  {
   "cell_type": "code",
   "execution_count": 11,
   "metadata": {
    "tags": []
   },
   "outputs": [
    {
     "name": "stdout",
     "output_type": "stream",
     "text": [
      "Epoch 1\n",
      "-------------------------------\n",
      "loss: 2.308532  [   64/60000]\n",
      "loss: 2.287065  [ 6464/60000]\n",
      "loss: 2.272033  [12864/60000]\n",
      "loss: 2.267127  [19264/60000]\n",
      "loss: 2.253857  [25664/60000]\n",
      "loss: 2.229030  [32064/60000]\n",
      "loss: 2.230167  [38464/60000]\n",
      "loss: 2.199634  [44864/60000]\n",
      "loss: 2.200486  [51264/60000]\n",
      "loss: 2.168281  [57664/60000]\n",
      "Test Error: \n",
      " Accuracy: 49.8%, Avg loss: 2.155881 \n",
      "\n",
      "Epoch 2\n",
      "-------------------------------\n",
      "loss: 2.171715  [   64/60000]\n",
      "loss: 2.153430  [ 6464/60000]\n",
      "loss: 2.094512  [12864/60000]\n",
      "loss: 2.111995  [19264/60000]\n",
      "loss: 2.061736  [25664/60000]\n",
      "loss: 2.001196  [32064/60000]\n",
      "loss: 2.036179  [38464/60000]\n",
      "loss: 1.953266  [44864/60000]\n",
      "loss: 1.966011  [51264/60000]\n",
      "loss: 1.889048  [57664/60000]\n",
      "Test Error: \n",
      " Accuracy: 55.2%, Avg loss: 1.882415 \n",
      "\n",
      "Epoch 3\n",
      "-------------------------------\n",
      "loss: 1.920735  [   64/60000]\n",
      "loss: 1.882541  [ 6464/60000]\n",
      "loss: 1.763383  [12864/60000]\n",
      "loss: 1.807234  [19264/60000]\n",
      "loss: 1.696612  [25664/60000]\n",
      "loss: 1.648494  [32064/60000]\n",
      "loss: 1.683248  [38464/60000]\n",
      "loss: 1.583025  [44864/60000]\n",
      "loss: 1.611701  [51264/60000]\n",
      "loss: 1.506758  [57664/60000]\n",
      "Test Error: \n",
      " Accuracy: 60.9%, Avg loss: 1.518859 \n",
      "\n",
      "Epoch 4\n",
      "-------------------------------\n",
      "loss: 1.586349  [   64/60000]\n",
      "loss: 1.546707  [ 6464/60000]\n",
      "loss: 1.403057  [12864/60000]\n",
      "loss: 1.471425  [19264/60000]\n",
      "loss: 1.354813  [25664/60000]\n",
      "loss: 1.353780  [32064/60000]\n",
      "loss: 1.375176  [38464/60000]\n",
      "loss: 1.300119  [44864/60000]\n",
      "loss: 1.336338  [51264/60000]\n",
      "loss: 1.237664  [57664/60000]\n",
      "Test Error: \n",
      " Accuracy: 62.7%, Avg loss: 1.257007 \n",
      "\n",
      "Epoch 5\n",
      "-------------------------------\n",
      "loss: 1.332825  [   64/60000]\n",
      "loss: 1.311184  [ 6464/60000]\n",
      "loss: 1.156114  [12864/60000]\n",
      "loss: 1.253746  [19264/60000]\n",
      "loss: 1.130852  [25664/60000]\n",
      "loss: 1.158248  [32064/60000]\n",
      "loss: 1.185594  [38464/60000]\n",
      "loss: 1.122356  [44864/60000]\n",
      "loss: 1.164323  [51264/60000]\n",
      "loss: 1.078752  [57664/60000]\n",
      "Test Error: \n",
      " Accuracy: 64.3%, Avg loss: 1.093552 \n",
      "\n",
      "Epoch 6\n",
      "-------------------------------\n",
      "loss: 1.163058  [   64/60000]\n",
      "loss: 1.162039  [ 6464/60000]\n",
      "loss: 0.992306  [12864/60000]\n",
      "loss: 1.118273  [19264/60000]\n",
      "loss: 0.990495  [25664/60000]\n",
      "loss: 1.027119  [32064/60000]\n",
      "loss: 1.067461  [38464/60000]\n",
      "loss: 1.008406  [44864/60000]\n",
      "loss: 1.051380  [51264/60000]\n",
      "loss: 0.979023  [57664/60000]\n",
      "Test Error: \n",
      " Accuracy: 65.3%, Avg loss: 0.987508 \n",
      "\n",
      "Epoch 7\n",
      "-------------------------------\n",
      "loss: 1.044981  [   64/60000]\n",
      "loss: 1.064850  [ 6464/60000]\n",
      "loss: 0.878922  [12864/60000]\n",
      "loss: 1.027665  [19264/60000]\n",
      "loss: 0.900514  [25664/60000]\n",
      "loss: 0.934784  [32064/60000]\n",
      "loss: 0.989541  [38464/60000]\n",
      "loss: 0.933173  [44864/60000]\n",
      "loss: 0.972513  [51264/60000]\n",
      "loss: 0.912022  [57664/60000]\n",
      "Test Error: \n",
      " Accuracy: 66.8%, Avg loss: 0.914721 \n",
      "\n",
      "Epoch 8\n",
      "-------------------------------\n",
      "loss: 0.957890  [   64/60000]\n",
      "loss: 0.996665  [ 6464/60000]\n",
      "loss: 0.796603  [12864/60000]\n",
      "loss: 0.962753  [19264/60000]\n",
      "loss: 0.840453  [25664/60000]\n",
      "loss: 0.867161  [32064/60000]\n",
      "loss: 0.934487  [38464/60000]\n",
      "loss: 0.882167  [44864/60000]\n",
      "loss: 0.915222  [51264/60000]\n",
      "loss: 0.863677  [57664/60000]\n",
      "Test Error: \n",
      " Accuracy: 68.0%, Avg loss: 0.862140 \n",
      "\n",
      "Epoch 9\n",
      "-------------------------------\n",
      "loss: 0.890552  [   64/60000]\n",
      "loss: 0.945309  [ 6464/60000]\n",
      "loss: 0.734834  [12864/60000]\n",
      "loss: 0.914004  [19264/60000]\n",
      "loss: 0.798188  [25664/60000]\n",
      "loss: 0.816327  [32064/60000]\n",
      "loss: 0.892777  [38464/60000]\n",
      "loss: 0.846392  [44864/60000]\n",
      "loss: 0.872183  [51264/60000]\n",
      "loss: 0.826637  [57664/60000]\n",
      "Test Error: \n",
      " Accuracy: 69.2%, Avg loss: 0.822326 \n",
      "\n",
      "Epoch 10\n",
      "-------------------------------\n",
      "loss: 0.836437  [   64/60000]\n",
      "loss: 0.904096  [ 6464/60000]\n",
      "loss: 0.686571  [12864/60000]\n",
      "loss: 0.876123  [19264/60000]\n",
      "loss: 0.766823  [25664/60000]\n",
      "loss: 0.777188  [32064/60000]\n",
      "loss: 0.859070  [38464/60000]\n",
      "loss: 0.819933  [44864/60000]\n",
      "loss: 0.838652  [51264/60000]\n",
      "loss: 0.796827  [57664/60000]\n",
      "Test Error: \n",
      " Accuracy: 70.5%, Avg loss: 0.790760 \n",
      "\n",
      "Done!\n"
     ]
    }
   ],
   "source": [
    "epochs = 10\n",
    "for t in range(epochs):\n",
    "    print(f\"Epoch {t+1}\\n-------------------------------\")\n",
    "    train(train_dataloader, model, loss_fn, optimizer)\n",
    "    test(test_dataloader, model, loss_fn)\n",
    "print(\"Done!\")"
   ]
  },
  {
   "cell_type": "markdown",
   "metadata": {},
   "source": [
    "# Task 1\n",
    "Build graphic for the learning process. "
   ]
  },
  {
   "cell_type": "markdown",
   "metadata": {},
   "source": [
    "# Load/Save models"
   ]
  },
  {
   "cell_type": "code",
   "execution_count": 12,
   "metadata": {
    "tags": []
   },
   "outputs": [
    {
     "name": "stdout",
     "output_type": "stream",
     "text": [
      "Saved PyTorch Model State to model.pth\n"
     ]
    },
    {
     "data": {
      "text/plain": [
       "<All keys matched successfully>"
      ]
     },
     "execution_count": 12,
     "metadata": {},
     "output_type": "execute_result"
    }
   ],
   "source": [
    "torch.save(model.state_dict(), \"model.pth\")\n",
    "print(\"Saved PyTorch Model State to model.pth\")\n",
    "\n",
    "model = NeuralNetwork()\n",
    "model.load_state_dict(torch.load(\"model.pth\"))"
   ]
  },
  {
   "cell_type": "code",
   "execution_count": 13,
   "metadata": {
    "tags": []
   },
   "outputs": [
    {
     "name": "stdout",
     "output_type": "stream",
     "text": [
      "Predicted: \"Ankle boot\", Actual: \"Ankle boot\"\n"
     ]
    }
   ],
   "source": [
    "classes = [\n",
    "    \"T-shirt/top\",\n",
    "    \"Trouser\",\n",
    "    \"Pullover\",\n",
    "    \"Dress\",\n",
    "    \"Coat\",\n",
    "    \"Sandal\",\n",
    "    \"Shirt\",\n",
    "    \"Sneaker\",\n",
    "    \"Bag\",\n",
    "    \"Ankle boot\",\n",
    "]\n",
    "\n",
    "model.eval()\n",
    "x, y = test_data[0][0], test_data[0][1]\n",
    "with torch.no_grad():\n",
    "    pred = model(x)\n",
    "    predicted, actual = classes[pred[0].argmax(0)], classes[y]\n",
    "    print(f'Predicted: \"{predicted}\", Actual: \"{actual}\"')"
   ]
  },
  {
   "cell_type": "code",
   "execution_count": null,
   "metadata": {},
   "outputs": [],
   "source": []
  }
 ],
 "metadata": {
  "kernelspec": {
   "display_name": "Python 3 (ipykernel)",
   "language": "python",
   "name": "python3"
  },
  "language_info": {
   "codemirror_mode": {
    "name": "ipython",
    "version": 3
   },
   "file_extension": ".py",
   "mimetype": "text/x-python",
   "name": "python",
   "nbconvert_exporter": "python",
   "pygments_lexer": "ipython3",
   "version": "3.8.16"
  }
 },
 "nbformat": 4,
 "nbformat_minor": 4
}
